{
 "cells": [
  {
   "cell_type": "code",
   "execution_count": 2,
   "metadata": {},
   "outputs": [],
   "source": [
    "import numpy as np \n",
    "import pandas as pd\n",
    "import seaborn as sns \n",
    "import matplotlib.pyplot as plt\n",
    "import plotly.express as px\n",
    "import kaleido\n",
    "from kmodes.kprototypes import KPrototypes\n",
    "from mpl_toolkits.mplot3d import Axes3D"
   ]
  },
  {
   "cell_type": "code",
   "execution_count": 3,
   "metadata": {},
   "outputs": [],
   "source": [
    "data = pd.read_csv(\"behavioural_dataset.csv\")"
   ]
  },
  {
   "cell_type": "code",
   "execution_count": 4,
   "metadata": {},
   "outputs": [
    {
     "data": {
      "text/plain": [
       "<bound method NDFrame.describe of     Age Profession Marrital Status      Education  No of Dependents  \\\n",
       "0    27   Salaried          Single  Post Graduate                 0   \n",
       "1    35   Salaried         Married  Post Graduate                 2   \n",
       "2    45   Business         Married       Graduate                 4   \n",
       "3    41   Business         Married  Post Graduate                 3   \n",
       "4    31   Salaried         Married  Post Graduate                 2   \n",
       "..  ...        ...             ...            ...               ...   \n",
       "94   27   Business          Single       Graduate                 0   \n",
       "95   50   Salaried         Married  Post Graduate                 3   \n",
       "96   51   Business         Married       Graduate                 2   \n",
       "97   51   Salaried         Married  Post Graduate                 2   \n",
       "98   51   Salaried         Married  Post Graduate                 2   \n",
       "\n",
       "   Personal loan  Total Salary    Price  \n",
       "0            Yes        800000   800000  \n",
       "1            Yes       2000000  1000000  \n",
       "2            Yes       1800000  1200000  \n",
       "3             No       2200000  1200000  \n",
       "4            Yes       2600000  1600000  \n",
       "..           ...           ...      ...  \n",
       "94            No       2400000  1600000  \n",
       "95            No       5100000  1600000  \n",
       "96           Yes       2200000  1100000  \n",
       "97            No       4000000  1500000  \n",
       "98           Yes       2200000  1100000  \n",
       "\n",
       "[99 rows x 8 columns]>"
      ]
     },
     "execution_count": 4,
     "metadata": {},
     "output_type": "execute_result"
    }
   ],
   "source": [
    "data.describe"
   ]
  },
  {
   "cell_type": "code",
   "execution_count": 5,
   "metadata": {},
   "outputs": [
    {
     "name": "stdout",
     "output_type": "stream",
     "text": [
      "Age                 0\n",
      "Profession          0\n",
      "Marrital Status     0\n",
      "Education           0\n",
      "No of Dependents    0\n",
      "Personal loan       0\n",
      "Total Salary        0\n",
      "Price               0\n",
      "dtype: int64\n"
     ]
    }
   ],
   "source": [
    "print(pd.isnull(data).sum())"
   ]
  },
  {
   "cell_type": "code",
   "execution_count": 6,
   "metadata": {},
   "outputs": [
    {
     "data": {
      "text/html": [
       "<div>\n",
       "<style scoped>\n",
       "    .dataframe tbody tr th:only-of-type {\n",
       "        vertical-align: middle;\n",
       "    }\n",
       "\n",
       "    .dataframe tbody tr th {\n",
       "        vertical-align: top;\n",
       "    }\n",
       "\n",
       "    .dataframe thead th {\n",
       "        text-align: right;\n",
       "    }\n",
       "</style>\n",
       "<table border=\"1\" class=\"dataframe\">\n",
       "  <thead>\n",
       "    <tr style=\"text-align: right;\">\n",
       "      <th></th>\n",
       "      <th>Age</th>\n",
       "      <th>Profession</th>\n",
       "      <th>Marrital Status</th>\n",
       "      <th>Education</th>\n",
       "      <th>No of Dependents</th>\n",
       "      <th>Car_Loan</th>\n",
       "      <th>Total Salary</th>\n",
       "      <th>EV_Price</th>\n",
       "    </tr>\n",
       "  </thead>\n",
       "  <tbody>\n",
       "    <tr>\n",
       "      <th>0</th>\n",
       "      <td>27</td>\n",
       "      <td>Salaried</td>\n",
       "      <td>Single</td>\n",
       "      <td>Post Graduate</td>\n",
       "      <td>0</td>\n",
       "      <td>Yes</td>\n",
       "      <td>800000</td>\n",
       "      <td>800000</td>\n",
       "    </tr>\n",
       "    <tr>\n",
       "      <th>1</th>\n",
       "      <td>35</td>\n",
       "      <td>Salaried</td>\n",
       "      <td>Married</td>\n",
       "      <td>Post Graduate</td>\n",
       "      <td>2</td>\n",
       "      <td>Yes</td>\n",
       "      <td>2000000</td>\n",
       "      <td>1000000</td>\n",
       "    </tr>\n",
       "    <tr>\n",
       "      <th>2</th>\n",
       "      <td>45</td>\n",
       "      <td>Business</td>\n",
       "      <td>Married</td>\n",
       "      <td>Graduate</td>\n",
       "      <td>4</td>\n",
       "      <td>Yes</td>\n",
       "      <td>1800000</td>\n",
       "      <td>1200000</td>\n",
       "    </tr>\n",
       "    <tr>\n",
       "      <th>3</th>\n",
       "      <td>41</td>\n",
       "      <td>Business</td>\n",
       "      <td>Married</td>\n",
       "      <td>Post Graduate</td>\n",
       "      <td>3</td>\n",
       "      <td>No</td>\n",
       "      <td>2200000</td>\n",
       "      <td>1200000</td>\n",
       "    </tr>\n",
       "    <tr>\n",
       "      <th>4</th>\n",
       "      <td>31</td>\n",
       "      <td>Salaried</td>\n",
       "      <td>Married</td>\n",
       "      <td>Post Graduate</td>\n",
       "      <td>2</td>\n",
       "      <td>Yes</td>\n",
       "      <td>2600000</td>\n",
       "      <td>1600000</td>\n",
       "    </tr>\n",
       "  </tbody>\n",
       "</table>\n",
       "</div>"
      ],
      "text/plain": [
       "   Age Profession Marrital Status      Education  No of Dependents Car_Loan  \\\n",
       "0   27   Salaried          Single  Post Graduate                 0      Yes   \n",
       "1   35   Salaried         Married  Post Graduate                 2      Yes   \n",
       "2   45   Business         Married       Graduate                 4      Yes   \n",
       "3   41   Business         Married  Post Graduate                 3       No   \n",
       "4   31   Salaried         Married  Post Graduate                 2      Yes   \n",
       "\n",
       "   Total Salary  EV_Price  \n",
       "0        800000    800000  \n",
       "1       2000000   1000000  \n",
       "2       1800000   1200000  \n",
       "3       2200000   1200000  \n",
       "4       2600000   1600000  "
      ]
     },
     "execution_count": 6,
     "metadata": {},
     "output_type": "execute_result"
    }
   ],
   "source": [
    "data.rename(columns={'Personal loan':'Car_Loan'},inplace=True)\n",
    "data.rename(columns={'Price':'EV_Price'},inplace=True)\n",
    "data.head()\n"
   ]
  },
  {
   "cell_type": "code",
   "execution_count": 7,
   "metadata": {},
   "outputs": [
    {
     "data": {
      "image/png": "[encoded data removed]",
      "text/plain": [
       "<Figure size 640x480 with 1 Axes>"
      ]
     },
     "metadata": {},
     "output_type": "display_data"
    }
   ],
   "source": [
    "sns.countplot(x ='Marrital Status', hue = 'Car_Loan',  data = data, palette = 'Set1')\n",
    "plt.show()"
   ]
  },
  {
   "cell_type": "code",
   "execution_count": 8,
   "metadata": {},
   "outputs": [
    {
     "data": {
      "text/plain": [
       "84.84848484848484"
      ]
     },
     "execution_count": 8,
     "metadata": {},
     "output_type": "execute_result"
    }
   ],
   "source": [
    "(data['Marrital Status'].value_counts()['Married'])/((data['Marrital Status'].value_counts()['Married'])+(data['Marrital Status'].value_counts()['Single']))*100"
   ]
  },
  {
   "cell_type": "code",
   "execution_count": 9,
   "metadata": {},
   "outputs": [
    {
     "data": {
      "image/png": "[encoded data removed]",
      "text/plain": [
       "<Figure size 640x480 with 1 Axes>"
      ]
     },
     "metadata": {},
     "output_type": "display_data"
    }
   ],
   "source": [
    "#Getting labels and data\n",
    "labels = ['Car Loan Required','Car Loan not required']\n",
    "Loan_status = [data.query('Car_Loan == \"Yes\"').Car_Loan.count(),data.query('Car_Loan == \"No\"').Car_Loan.count()]\n",
    "\n",
    "# declaring exploding pie\n",
    "explode = [0.1, 0]\n",
    "# define Seaborn color palette to use\n",
    "palette_color = sns.color_palette('pastel')\n",
    "  \n",
    "# plotting data on chart\n",
    "plt.pie(Loan_status, labels=labels, colors=palette_color, shadow = \"True\",\n",
    "        explode=explode, autopct='%1.1f%%')\n",
    "  \n",
    "# displaying chart\n",
    "plt.show()"
   ]
  },
  {
   "cell_type": "code",
   "execution_count": 10,
   "metadata": {},
   "outputs": [
    {
     "data": {
      "image/png": "[encoded data removed]",
      "text/plain": [
       "<Figure size 1500x500 with 4 Axes>"
      ]
     },
     "metadata": {},
     "output_type": "display_data"
    }
   ],
   "source": [
    "# Plotting the fequency of each entry for consumer features - Age, No. 0f Dependents, Total Salary, EV_Price\n",
    "plt.figure(1, figsize=(15,5))\n",
    "n=0\n",
    "\n",
    "for x in ['Age', 'No of Dependents' ,'Total Salary'  ,'EV_Price']:\n",
    "  n += 1\n",
    "  plt.subplot(1,4,n)\n",
    "  plt.subplots_adjust(hspace=0.5, wspace=0.5)\n",
    "  sns.histplot(data[x], bins= 25)\n",
    "  plt.title(f'{x}')\n",
    "plt.show()"
   ]
  },
  {
   "cell_type": "code",
   "execution_count": 12,
   "metadata": {},
   "outputs": [
    {
     "data": {
      "text/plain": [
       "array([27, 35, 45, 41, 31, 28, 31, 33, 34, 34, 35, 35, 29, 30, 31, 49, 26,\n",
       "       27, 29, 30, 37, 35, 36, 35, 35, 35, 35, 36, 36, 36, 41, 41, 41, 43,\n",
       "       42, 42, 29, 30, 30, 31, 31, 32, 32, 34, 34, 34, 36, 36, 36, 36, 49,\n",
       "       49, 44, 44, 41, 41, 41, 27, 27, 28, 28, 30, 31, 31, 31, 39, 39, 39,\n",
       "       39, 37, 37, 37, 37, 35, 36, 36, 36, 36, 44, 45, 46, 44, 43, 42, 42,\n",
       "       42, 29, 33, 34, 34, 35, 36, 37, 27, 27, 50, 51, 51, 51],\n",
       "      dtype=object)"
      ]
     },
     "execution_count": 12,
     "metadata": {},
     "output_type": "execute_result"
    }
   ],
   "source": [
    "cluster_features = list(data.columns)\n",
    "cluster_data = data[cluster_features].values\n",
    "cluster_data[:, 0]"
   ]
  },
  {
   "cell_type": "code",
   "execution_count": 13,
   "metadata": {},
   "outputs": [],
   "source": [
    "cluster_data[:, 0] = cluster_data[:, 0].astype(float)\n",
    "cluster_data[:, 4] = cluster_data[:, 4].astype(float)\n",
    "cluster_data[:, 6] = cluster_data[:, 6].astype(float)\n",
    "cluster_data[:, 7] = cluster_data[:, 7].astype(float)"
   ]
  },
  {
   "cell_type": "code",
   "execution_count": 15,
   "metadata": {},
   "outputs": [
    {
     "data": {
      "text/plain": [
       "[<matplotlib.lines.Line2D at 0x14bf77910>]"
      ]
     },
     "execution_count": 15,
     "metadata": {},
     "output_type": "execute_result"
    },
    {
     "data": {
      "image/png": "[encoded data removed]",
      "text/plain": [
       "<Figure size 640x480 with 1 Axes>"
      ]
     },
     "metadata": {},
     "output_type": "display_data"
    }
   ],
   "source": [
    "cost = []\n",
    "for num_clusters in list(range(1,8)):\n",
    "    kproto = KPrototypes(n_clusters=num_clusters, init='Cao')\n",
    "    kproto.fit_predict(cluster_data, categorical=[1,2,3,5])\n",
    "    cost.append(kproto.cost_)\n",
    "\n",
    "plt.plot(cost)"
   ]
  },
  {
   "cell_type": "code",
   "execution_count": 16,
   "metadata": {},
   "outputs": [
    {
     "data": {
      "text/plain": [
       "[126979657487180.34,\n",
       " 48616816198579.65,\n",
       " 25087753148183.234,\n",
       " 18491809410726.285,\n",
       " 15430760855256.691,\n",
       " 12824891530293.428,\n",
       " 10279544908376.264]"
      ]
     },
     "execution_count": 16,
     "metadata": {},
     "output_type": "execute_result"
    }
   ],
   "source": [
    "cost"
   ]
  },
  {
   "cell_type": "code",
   "execution_count": 17,
   "metadata": {},
   "outputs": [
    {
     "name": "stdout",
     "output_type": "stream",
     "text": [
      "Initialization method and algorithm are deterministic. Setting n_init to 1.\n",
      "Init: initializing centroids\n",
      "Init: initializing clusters\n",
      "Starting iterations...\n",
      "Run: 1, iteration: 1/20, moves: 10, ncost: 50057040964014.66\n",
      "Run: 1, iteration: 2/20, moves: 1, ncost: 50020391397205.32\n",
      "Run: 1, iteration: 3/20, moves: 0, ncost: 50020391397205.32\n",
      "Init: initializing centroids\n",
      "Init: initializing clusters\n",
      "Starting iterations...\n",
      "Run: 2, iteration: 1/20, moves: 14, ncost: 49015497037785.914\n",
      "Run: 2, iteration: 2/20, moves: 2, ncost: 48777842651066.98\n",
      "Run: 2, iteration: 3/20, moves: 0, ncost: 48777842651066.98\n",
      "Init: initializing centroids\n",
      "Init: initializing clusters\n",
      "Starting iterations...\n",
      "Run: 3, iteration: 1/20, moves: 3, ncost: 48777842651066.98\n",
      "Run: 3, iteration: 2/20, moves: 0, ncost: 48777842651066.98\n",
      "Init: initializing centroids\n",
      "Init: initializing clusters\n",
      "Starting iterations...\n",
      "Run: 4, iteration: 1/20, moves: 14, ncost: 49015497037785.914\n",
      "Run: 4, iteration: 2/20, moves: 2, ncost: 48777842651066.98\n",
      "Run: 4, iteration: 3/20, moves: 0, ncost: 48777842651066.98\n",
      "Init: initializing centroids\n",
      "Init: initializing clusters\n",
      "Starting iterations...\n",
      "Run: 5, iteration: 1/20, moves: 5, ncost: 48631729380526.18\n",
      "Run: 5, iteration: 2/20, moves: 0, ncost: 48631729380526.18\n",
      "Init: initializing centroids\n",
      "Init: initializing clusters\n",
      "Starting iterations...\n",
      "Run: 6, iteration: 1/20, moves: 2, ncost: 48777842651066.98\n",
      "Run: 6, iteration: 2/20, moves: 0, ncost: 48777842651066.98\n",
      "Init: initializing centroids\n",
      "Init: initializing clusters\n",
      "Starting iterations...\n",
      "Run: 7, iteration: 1/20, moves: 4, ncost: 48777842651066.98\n",
      "Run: 7, iteration: 2/20, moves: 0, ncost: 48777842651066.98\n",
      "Init: initializing centroids\n",
      "Init: initializing clusters\n",
      "Starting iterations...\n",
      "Run: 8, iteration: 1/20, moves: 1, ncost: 48777842651066.98\n",
      "Run: 8, iteration: 2/20, moves: 0, ncost: 48777842651066.98\n",
      "Init: initializing centroids\n",
      "Init: initializing clusters\n",
      "Starting iterations...\n",
      "Run: 9, iteration: 1/20, moves: 15, ncost: 50683794617780.36\n",
      "Run: 9, iteration: 2/20, moves: 4, ncost: 50057040964014.66\n",
      "Run: 9, iteration: 3/20, moves: 1, ncost: 50020391397205.32\n",
      "Run: 9, iteration: 4/20, moves: 0, ncost: 50020391397205.32\n",
      "Init: initializing centroids\n",
      "Init: initializing clusters\n",
      "Starting iterations...\n",
      "Run: 10, iteration: 1/20, moves: 20, ncost: 51010804795368.1\n",
      "Run: 10, iteration: 2/20, moves: 5, ncost: 50057040964014.66\n",
      "Run: 10, iteration: 3/20, moves: 1, ncost: 50020391397205.32\n",
      "Run: 10, iteration: 4/20, moves: 0, ncost: 50020391397205.32\n",
      "Best run was number 5\n"
     ]
    }
   ],
   "source": [
    "kproto = KPrototypes(n_clusters=2, verbose=2,max_iter=20)\n",
    "clusters = kproto.fit_predict(cluster_data, categorical=[1,2,3,5])"
   ]
  },
  {
   "cell_type": "code",
   "execution_count": 18,
   "metadata": {},
   "outputs": [],
   "source": [
    "data['Cluster'] = clusters"
   ]
  },
  {
   "cell_type": "code",
   "execution_count": 19,
   "metadata": {},
   "outputs": [
    {
     "data": {
      "text/plain": [
       "1194040.4040404041"
      ]
     },
     "execution_count": 19,
     "metadata": {},
     "output_type": "execute_result"
    }
   ],
   "source": [
    "data.EV_Price.mean()"
   ]
  },
  {
   "cell_type": "code",
   "execution_count": 20,
   "metadata": {},
   "outputs": [
    {
     "data": {
      "text/plain": [
       "1632142.857142857"
      ]
     },
     "execution_count": 20,
     "metadata": {},
     "output_type": "execute_result"
    }
   ],
   "source": [
    "data.EV_Price[data.Cluster==0].mean()"
   ]
  },
  {
   "cell_type": "code",
   "execution_count": 21,
   "metadata": {},
   "outputs": [
    {
     "data": {
      "text/plain": [
       "1600000"
      ]
     },
     "execution_count": 21,
     "metadata": {},
     "output_type": "execute_result"
    }
   ],
   "source": [
    "data['EV_Price'][data.Cluster==1].max()"
   ]
  },
  {
   "cell_type": "code",
   "execution_count": 22,
   "metadata": {},
   "outputs": [
    {
     "data": {
      "text/plain": [
       "1021267.6056338028"
      ]
     },
     "execution_count": 22,
     "metadata": {},
     "output_type": "execute_result"
    }
   ],
   "source": [
    "data.EV_Price[data.Cluster==1].mean()"
   ]
  },
  {
   "cell_type": "code",
   "execution_count": 23,
   "metadata": {},
   "outputs": [
    {
     "data": {
      "text/plain": [
       "1    71.717172\n",
       "0    28.282828\n",
       "Name: Cluster, dtype: float64"
      ]
     },
     "execution_count": 23,
     "metadata": {},
     "output_type": "execute_result"
    }
   ],
   "source": [
    "data['Cluster'].value_counts(normalize=True) * 100"
   ]
  },
  {
   "cell_type": "code",
   "execution_count": 24,
   "metadata": {},
   "outputs": [],
   "source": [
    "Cluster_0 = data[data.Cluster==0]\n",
    "Cluster_1 = data[data.Cluster==1]"
   ]
  },
  {
   "cell_type": "code",
   "execution_count": 25,
   "metadata": {},
   "outputs": [
    {
     "data": {
      "text/plain": [
       "1    71\n",
       "0    28\n",
       "Name: Cluster, dtype: int64"
      ]
     },
     "execution_count": 25,
     "metadata": {},
     "output_type": "execute_result"
    }
   ],
   "source": [
    "data['Cluster'].value_counts()"
   ]
  },
  {
   "cell_type": "code",
   "execution_count": 26,
   "metadata": {},
   "outputs": [
    {
     "data": {
      "image/png": "[encoded data removed]",
      "text/plain": [
       "<Figure size 640x480 with 1 Axes>"
      ]
     },
     "metadata": {},
     "output_type": "display_data"
    }
   ],
   "source": [
    "plt.scatter(Cluster_0.EV_Price, Cluster_0['Total Salary'],color='red', marker = 'x', label = 'Cluster 1')\n",
    "plt.scatter(Cluster_1.EV_Price, Cluster_1['Total Salary'],color='green', label = 'Cluster 2')\n",
    "plt.legend(loc=\"upper left\")\n",
    "\n",
    "plt.xlabel('EV Price')\n",
    "plt.ylabel('Total salary')\n",
    "plt.show()"
   ]
  },
  {
   "cell_type": "code",
   "execution_count": null,
   "metadata": {},
   "outputs": [],
   "source": [
    "plt.scatter(Cluster_0.EV_Price, Cluster_0['Age'],color='red', marker = 'x', label = 'Cluster 1')\n",
    "plt.scatter(Cluster_1.EV_Price, Cluster_1['Age'],color='green', label = 'Cluster 2')\n",
    "plt.legend(loc = \"upper left\")\n",
    "\n",
    "plt.xlabel('EV Price')\n",
    "plt.ylabel('Age')\n",
    "plt.show()"
   ]
  },
  {
   "cell_type": "code",
   "execution_count": null,
   "metadata": {},
   "outputs": [],
   "source": [
    "fig = plt.figure(figsize=(8,8))\n",
    "\n",
    "ax = fig.add_subplot(111, projection='3d')\n",
    "\n",
    "ax.scatter(Cluster_0.EV_Price, Cluster_0['Total Salary'], Cluster_0['Age'], color='red', marker = 'x', label = 'Cluster 1')\n",
    "ax.scatter(Cluster_1.EV_Price, Cluster_1['Total Salary'],Cluster_1['Age'], color='green', label = 'Cluster 2')\n",
    "plt.legend(loc = 'upper left')\n",
    "\n",
    "ax.view_init(10, 20)\n",
    "\n",
    "plt.xlabel(\"EV Price\")\n",
    "plt.ylabel(\"Total Salary\")\n",
    "ax.set_zlabel('Age')\n",
    "plt.show()"
   ]
  },
  {
   "cell_type": "code",
   "execution_count": null,
   "metadata": {},
   "outputs": [],
   "source": [
    "fig = plt.figure(figsize=(8,8))\n",
    "\n",
    "ax = fig.add_subplot(111, projection='3d')\n",
    "\n",
    "ax.scatter(Cluster_0.EV_Price, Cluster_0['Total Salary'], Cluster_0['No of Dependents'], color='red', marker = 'x', label = 'Cluster 1')\n",
    "ax.scatter(Cluster_1.EV_Price, Cluster_1['Total Salary'],Cluster_1['No of Dependents'], color='green', label = 'Cluster 2')\n",
    "plt.legend(loc = 'upper left')\n",
    "ax.view_init(10,20)\n",
    "\n",
    "plt.xlabel(\"EV Price\")\n",
    "plt.ylabel(\"Total Salary\")\n",
    "ax.set_zlabel('No of Dependents')\n",
    "plt.show()"
   ]
  },
  {
   "cell_type": "code",
   "execution_count": null,
   "metadata": {},
   "outputs": [],
   "source": [
    "data['No of Dependents'].value_counts()"
   ]
  },
  {
   "cell_type": "code",
   "execution_count": null,
   "metadata": {},
   "outputs": [],
   "source": [
    "plt.scatter(Cluster_1.EV_Price, Cluster_1['No of Dependents'],color='green', label = 'Cluster 2')\n",
    "plt.scatter(Cluster_0.EV_Price, Cluster_0['No of Dependents'],color='red', marker = 'x', label = 'Cluster 1')\n",
    "plt.legend(loc=\"lower right\")\n",
    "\n",
    "plt.xlabel('EV Price')\n",
    "plt.ylabel('No of Dependents')\n",
    "plt.show()"
   ]
  }
 ],
 "metadata": {
  "kernelspec": {
   "display_name": "Python 3",
   "language": "python",
   "name": "python3"
  },
  "language_info": {
   "codemirror_mode": {
    "name": "ipython",
    "version": 3
   },
   "file_extension": ".py",
   "mimetype": "text/x-python",
   "name": "python",
   "nbconvert_exporter": "python",
   "pygments_lexer": "ipython3",
   "version": "3.10.10"
  },
  "orig_nbformat": 4
 },
 "nbformat": 4,
 "nbformat_minor": 2
}
